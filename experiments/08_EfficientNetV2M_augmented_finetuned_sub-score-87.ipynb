{
 "cells": [
  {
   "cell_type": "code",
   "execution_count": 1,
   "metadata": {
    "colab": {
     "base_uri": "https://localhost:8080/"
    },
    "id": "JPb-oepWMoel",
    "outputId": "a59a035e-f3b0-46be-cc49-dab1c766ab26"
   },
   "outputs": [
    {
     "name": "stdout",
     "output_type": "stream",
     "text": [
      "2.14.0\n"
     ]
    }
   ],
   "source": [
    "# Fix randomness and hide warnings\n",
    "seed = 42\n",
    "\n",
    "import os\n",
    "os.environ['TF_CPP_MIN_LOG_LEVEL'] = '3'\n",
    "os.environ['PYTHONHASHSEED'] = str(seed)\n",
    "os.environ['MPLCONFIGDIR'] = os.getcwd()+'/configs/'\n",
    "\n",
    "import warnings\n",
    "warnings.simplefilter(action='ignore', category=FutureWarning)\n",
    "warnings.simplefilter(action='ignore', category=Warning)\n",
    "\n",
    "import numpy as np\n",
    "np.random.seed(seed)\n",
    "\n",
    "import logging\n",
    "\n",
    "import random\n",
    "random.seed(seed)\n",
    "\n",
    "# Tensorflow\n",
    "import tensorflow as tf\n",
    "from tensorflow import keras as tfk\n",
    "from keras import layers as tfkl\n",
    "tf.autograph.set_verbosity(0)\n",
    "tf.get_logger().setLevel(logging.ERROR)\n",
    "tf.compat.v1.logging.set_verbosity(tf.compat.v1.logging.ERROR)\n",
    "tf.random.set_seed(seed)\n",
    "tf.compat.v1.set_random_seed(seed)\n",
    "print(tf.__version__)\n",
    "\n",
    "# Some libraries\n",
    "import matplotlib.pyplot as plt\n",
    "import pandas as pd\n",
    "from sklearn.model_selection import train_test_split\n",
    "from sklearn.metrics import accuracy_score, f1_score, precision_score, recall_score, confusion_matrix\n",
    "import seaborn as sns\n",
    "\n",
    "input_file = np.load('public_data.npz', allow_pickle=True)\n",
    "data = input_file['data']\n",
    "\n",
    "labels = input_file['labels']\n",
    "\n",
    "label_dict = {'healthy': 0, 'unhealthy': 1}\n",
    "labels = np.array([label_dict[label] for label in labels])\n"
   ]
  },
  {
   "cell_type": "code",
   "execution_count": 2,
   "metadata": {
    "id": "iyW8ZLuF7snN"
   },
   "outputs": [],
   "source": [
    "#data = data/255.0\n",
    "\n",
    "from keras.applications.efficientnet_v2 import preprocess_input\n",
    "data = preprocess_input(data)"
   ]
  },
  {
   "cell_type": "code",
   "execution_count": 3,
   "metadata": {
    "id": "K-INeLsUTutg"
   },
   "outputs": [],
   "source": [
    "shrek_indices = []\n",
    "trol_indices = []\n",
    "new_data = []\n",
    "new_labels = []\n",
    "for i, image in enumerate(data):\n",
    "  if np.sum(data[506] - image) == 0:\n",
    "    shrek_indices.append(i)\n",
    "  elif np.sum(data[338] - image) == 0:\n",
    "    trol_indices.append(i)\n",
    "  else:\n",
    "    new_data.append(image)\n",
    "    new_labels.append(labels[i])\n",
    "\n",
    "images = np.array(new_data)\n",
    "labels = np.array(new_labels)\n",
    "\n",
    "#labels = tfk.utils.to_categorical(labels)"
   ]
  },
  {
   "cell_type": "code",
   "execution_count": 4,
   "metadata": {
    "id": "2s7QHqECMsxi"
   },
   "outputs": [],
   "source": [
    "X_train, X_val, y_train, y_val = train_test_split(images, labels, test_size=0.1, stratify=labels, random_state=seed)"
   ]
  },
  {
   "cell_type": "code",
   "execution_count": 5,
   "metadata": {
    "id": "_cC_ZrfJNO1V"
   },
   "outputs": [],
   "source": [
    "input_shape = X_train.shape[1:]  # Input shape for the model"
   ]
  },
  {
   "cell_type": "code",
   "execution_count": 6,
   "metadata": {
    "id": "Nh9o9JVcNRWF"
   },
   "outputs": [],
   "source": [
    "learned_model = tfk.applications.EfficientNetV2M(\n",
    "    input_shape=(96, 96, 3),\n",
    "    include_top=False,\n",
    "    weights=\"imagenet\",\n",
    "    pooling='max',\n",
    ")"
   ]
  },
  {
   "cell_type": "code",
   "execution_count": 7,
   "metadata": {
    "id": "0WSPyd2hPcnp"
   },
   "outputs": [],
   "source": [
    "learned_model.trainable = True"
   ]
  },
  {
   "cell_type": "code",
   "execution_count": 8,
   "metadata": {
    "colab": {
     "base_uri": "https://localhost:8080/"
    },
    "id": "lcnVUT-5Pbz8",
    "outputId": "8aa9824d-1bf5-49f4-a141-e07d230ddac3"
   },
   "outputs": [],
   "source": [
    "N = 188\n",
    "for i, layer in enumerate(learned_model.layers[:N]):\n",
    "  layer.trainable=False"
   ]
  },
  {
   "cell_type": "code",
   "execution_count": 9,
   "metadata": {
    "id": "vRul5dEJNuHr"
   },
   "outputs": [],
   "source": [
    "preprocessing = tf.keras.Sequential([\n",
    "    tfkl.RandomFlip(\"horizontal_and_vertical\"),\n",
    "    tfkl.RandomRotation(0.5),\n",
    "], name='preprocessing')\n",
    "\n",
    "\n",
    "input_layer = tfkl.Input(shape=input_shape)\n",
    "x = preprocessing(input_layer)"
   ]
  },
  {
   "cell_type": "code",
   "execution_count": 10,
   "metadata": {
    "id": "rq05G8FoO2f5"
   },
   "outputs": [],
   "source": [
    "x = learned_model(x)"
   ]
  },
  {
   "cell_type": "code",
   "execution_count": 11,
   "metadata": {
    "id": "Bn4-w2C9PMb9"
   },
   "outputs": [],
   "source": [
    "x = tfkl.Flatten(name='flattenLast')(x)\n",
    "x = tfkl.Dropout(0.2)(x)\n",
    "x = tfkl.Dense(512, activation='relu', name='Dense_1')(x)\n",
    "x = tfkl.Dropout(0.2)(x)\n",
    "x = tfkl.Dense(256, activation='relu', name='Dense_2')(x)\n",
    "x = tfkl.Dropout(0.2)(x)\n",
    "x = tfkl.Dense(128, activation='relu', name='Dense_3')(x)\n",
    "x = tfkl.Dropout(0.2)(x)\n",
    "x = tfkl.Dense(64, activation='relu', name='Dense_4')(x)\n",
    "x = tfkl.Dropout(0.2)(x)\n",
    "x = tfkl.Dense(16, activation='relu', name='Dense_5')(x)\n",
    "x = tfkl.Dropout(0.2)(x)\n",
    "output_layer = tfkl.Dense(1, activation='sigmoid', name='output')(x)\n",
    "\n",
    "model = tf.keras.Model(inputs=input_layer, outputs=output_layer)"
   ]
  },
  {
   "cell_type": "code",
   "execution_count": 12,
   "metadata": {
    "colab": {
     "base_uri": "https://localhost:8080/"
    },
    "id": "BFkokwZ1PN-X",
    "outputId": "9e2ec129-61f4-47fe-87a1-8975dcad2edf"
   },
   "outputs": [
    {
     "name": "stdout",
     "output_type": "stream",
     "text": [
      "Model: \"model\"\n",
      "_________________________________________________________________\n",
      " Layer (type)                Output Shape              Param #   \n",
      "=================================================================\n",
      " input_2 (InputLayer)        [(None, 96, 96, 3)]       0         \n",
      "                                                                 \n",
      " preprocessing (Sequential)  (None, 96, 96, 3)         0         \n",
      "                                                                 \n",
      " efficientnetv2-m (Function  (None, 1280)              53150388  \n",
      " al)                                                             \n",
      "                                                                 \n",
      " flattenLast (Flatten)       (None, 1280)              0         \n",
      "                                                                 \n",
      " dropout (Dropout)           (None, 1280)              0         \n",
      "                                                                 \n",
      " Dense_1 (Dense)             (None, 512)               655872    \n",
      "                                                                 \n",
      " dropout_1 (Dropout)         (None, 512)               0         \n",
      "                                                                 \n",
      " Dense_2 (Dense)             (None, 256)               131328    \n",
      "                                                                 \n",
      " dropout_2 (Dropout)         (None, 256)               0         \n",
      "                                                                 \n",
      " Dense_3 (Dense)             (None, 128)               32896     \n",
      "                                                                 \n",
      " dropout_3 (Dropout)         (None, 128)               0         \n",
      "                                                                 \n",
      " Dense_4 (Dense)             (None, 64)                8256      \n",
      "                                                                 \n",
      " dropout_4 (Dropout)         (None, 64)                0         \n",
      "                                                                 \n",
      " Dense_5 (Dense)             (None, 16)                1040      \n",
      "                                                                 \n",
      " dropout_5 (Dropout)         (None, 16)                0         \n",
      "                                                                 \n",
      " output (Dense)              (None, 1)                 17        \n",
      "                                                                 \n",
      "=================================================================\n",
      "Total params: 53979797 (205.92 MB)\n",
      "Trainable params: 50462793 (192.50 MB)\n",
      "Non-trainable params: 3517004 (13.42 MB)\n",
      "_________________________________________________________________\n"
     ]
    }
   ],
   "source": [
    "model.compile(loss=tfk.losses.BinaryCrossentropy(), optimizer=tfk.optimizers.Adam(1e-5), metrics='accuracy')\n",
    "model.summary()"
   ]
  },
  {
   "cell_type": "code",
   "execution_count": 17,
   "metadata": {
    "id": "Qyv-LU3fUB2g"
   },
   "outputs": [],
   "source": [
    "early_stopping = tfk.callbacks.EarlyStopping(monitor='val_loss', patience=30, verbose=1, mode='min', restore_best_weights=True)"
   ]
  },
  {
   "cell_type": "code",
   "execution_count": 18,
   "metadata": {
    "id": "tN286d7yToOc"
   },
   "outputs": [],
   "source": [
    "model_checkpoint = tfk.callbacks.ModelCheckpoint('best_model.h5', monitor='val_accuracy', save_best_only=True, mode='max')"
   ]
  },
  {
   "cell_type": "code",
   "execution_count": 19,
   "metadata": {
    "colab": {
     "base_uri": "https://localhost:8080/"
    },
    "id": "hVanTcK3UMRR",
    "outputId": "b0f7ea9a-38b1-412b-ee9d-f06c670f9b1e"
   },
   "outputs": [
    {
     "name": "stdout",
     "output_type": "stream",
     "text": [
      "Class weights: {0: 0.81, 1: 1.29}\n"
     ]
    }
   ],
   "source": [
    "from sklearn.utils.class_weight import compute_class_weight\n",
    "#class_weights = compute_class_weight('balanced', classes=np.unique(y_train), y=y_train)\n",
    "#class_weights = compute_class_weight('balanced', classes=np.unique(labels), y=labels)\n",
    "class_weights_dict = {0: 0.81, 1: 1.29}\n",
    "\n",
    "print(f\"Class weights: {class_weights_dict}\")"
   ]
  },
  {
   "cell_type": "code",
   "execution_count": 20,
   "metadata": {
    "colab": {
     "base_uri": "https://localhost:8080/"
    },
    "id": "KWNqMePaUdoz",
    "outputId": "2b3273f8-595b-4962-f86e-c9314a626e1c"
   },
   "outputs": [
    {
     "name": "stdout",
     "output_type": "stream",
     "text": [
      "Epoch 1/150\n",
      "282/282 [==============================] - 125s 150ms/step - loss: 0.8333 - accuracy: 0.4506 - val_loss: 0.6894 - val_accuracy: 0.5509\n",
      "Epoch 2/150\n",
      "282/282 [==============================] - 36s 129ms/step - loss: 0.7335 - accuracy: 0.4870 - val_loss: 0.6886 - val_accuracy: 0.5589\n",
      "Epoch 3/150\n",
      "282/282 [==============================] - 37s 130ms/step - loss: 0.7198 - accuracy: 0.4892 - val_loss: 0.6834 - val_accuracy: 0.5768\n",
      "Epoch 4/150\n",
      "282/282 [==============================] - 36s 128ms/step - loss: 0.7036 - accuracy: 0.4950 - val_loss: 0.6834 - val_accuracy: 0.6028\n",
      "Epoch 5/150\n",
      "282/282 [==============================] - 36s 128ms/step - loss: 0.6947 - accuracy: 0.5179 - val_loss: 0.6784 - val_accuracy: 0.6088\n",
      "Epoch 6/150\n",
      "282/282 [==============================] - 37s 131ms/step - loss: 0.6860 - accuracy: 0.5303 - val_loss: 0.6677 - val_accuracy: 0.6208\n",
      "Epoch 7/150\n",
      "282/282 [==============================] - 37s 130ms/step - loss: 0.6743 - accuracy: 0.5601 - val_loss: 0.6513 - val_accuracy: 0.6806\n",
      "Epoch 8/150\n",
      "282/282 [==============================] - 36s 129ms/step - loss: 0.6558 - accuracy: 0.5934 - val_loss: 0.6175 - val_accuracy: 0.7006\n",
      "Epoch 9/150\n",
      "282/282 [==============================] - 37s 130ms/step - loss: 0.6202 - accuracy: 0.6369 - val_loss: 0.5513 - val_accuracy: 0.7665\n",
      "Epoch 10/150\n",
      "282/282 [==============================] - 37s 131ms/step - loss: 0.5634 - accuracy: 0.7035 - val_loss: 0.4771 - val_accuracy: 0.7764\n",
      "Epoch 11/150\n",
      "282/282 [==============================] - 37s 131ms/step - loss: 0.5105 - accuracy: 0.7448 - val_loss: 0.4373 - val_accuracy: 0.8044\n",
      "Epoch 12/150\n",
      "282/282 [==============================] - 37s 132ms/step - loss: 0.5079 - accuracy: 0.7446 - val_loss: 0.4201 - val_accuracy: 0.8144\n",
      "Epoch 13/150\n",
      "282/282 [==============================] - 37s 131ms/step - loss: 0.4920 - accuracy: 0.7546 - val_loss: 0.4125 - val_accuracy: 0.8184\n",
      "Epoch 14/150\n",
      "282/282 [==============================] - 32s 112ms/step - loss: 0.4742 - accuracy: 0.7768 - val_loss: 0.4069 - val_accuracy: 0.8164\n",
      "Epoch 15/150\n",
      "282/282 [==============================] - 37s 130ms/step - loss: 0.4551 - accuracy: 0.7801 - val_loss: 0.3813 - val_accuracy: 0.8403\n",
      "Epoch 16/150\n",
      "282/282 [==============================] - 31s 110ms/step - loss: 0.4447 - accuracy: 0.7879 - val_loss: 0.3771 - val_accuracy: 0.8363\n",
      "Epoch 17/150\n",
      "282/282 [==============================] - 31s 109ms/step - loss: 0.4308 - accuracy: 0.7997 - val_loss: 0.3574 - val_accuracy: 0.8343\n",
      "Epoch 18/150\n",
      "282/282 [==============================] - 30s 108ms/step - loss: 0.4402 - accuracy: 0.8006 - val_loss: 0.3656 - val_accuracy: 0.8283\n",
      "Epoch 19/150\n",
      "282/282 [==============================] - 31s 109ms/step - loss: 0.4295 - accuracy: 0.8052 - val_loss: 0.3369 - val_accuracy: 0.8403\n",
      "Epoch 20/150\n",
      "282/282 [==============================] - 37s 131ms/step - loss: 0.4109 - accuracy: 0.8212 - val_loss: 0.3304 - val_accuracy: 0.8583\n",
      "Epoch 21/150\n",
      "282/282 [==============================] - 31s 110ms/step - loss: 0.4075 - accuracy: 0.8126 - val_loss: 0.3228 - val_accuracy: 0.8543\n",
      "Epoch 22/150\n",
      "282/282 [==============================] - 36s 129ms/step - loss: 0.4013 - accuracy: 0.8217 - val_loss: 0.3121 - val_accuracy: 0.8643\n",
      "Epoch 23/150\n",
      "282/282 [==============================] - 32s 112ms/step - loss: 0.3925 - accuracy: 0.8288 - val_loss: 0.3095 - val_accuracy: 0.8603\n",
      "Epoch 24/150\n",
      "282/282 [==============================] - 31s 111ms/step - loss: 0.3875 - accuracy: 0.8354 - val_loss: 0.3173 - val_accuracy: 0.8643\n",
      "Epoch 25/150\n",
      "282/282 [==============================] - 37s 130ms/step - loss: 0.3786 - accuracy: 0.8408 - val_loss: 0.2879 - val_accuracy: 0.8802\n",
      "Epoch 26/150\n",
      "282/282 [==============================] - 31s 110ms/step - loss: 0.3563 - accuracy: 0.8465 - val_loss: 0.2974 - val_accuracy: 0.8743\n",
      "Epoch 27/150\n",
      "282/282 [==============================] - 31s 110ms/step - loss: 0.3608 - accuracy: 0.8441 - val_loss: 0.2855 - val_accuracy: 0.8703\n",
      "Epoch 28/150\n",
      "282/282 [==============================] - 37s 130ms/step - loss: 0.3454 - accuracy: 0.8472 - val_loss: 0.2738 - val_accuracy: 0.8822\n",
      "Epoch 29/150\n",
      "282/282 [==============================] - 31s 109ms/step - loss: 0.3340 - accuracy: 0.8563 - val_loss: 0.2785 - val_accuracy: 0.8723\n",
      "Epoch 30/150\n",
      "282/282 [==============================] - 31s 109ms/step - loss: 0.3363 - accuracy: 0.8534 - val_loss: 0.2803 - val_accuracy: 0.8762\n",
      "Epoch 31/150\n",
      "282/282 [==============================] - 31s 109ms/step - loss: 0.3438 - accuracy: 0.8572 - val_loss: 0.2716 - val_accuracy: 0.8782\n",
      "Epoch 32/150\n",
      "282/282 [==============================] - 37s 130ms/step - loss: 0.3101 - accuracy: 0.8719 - val_loss: 0.2556 - val_accuracy: 0.8942\n",
      "Epoch 33/150\n",
      "282/282 [==============================] - 31s 109ms/step - loss: 0.3079 - accuracy: 0.8734 - val_loss: 0.2866 - val_accuracy: 0.8802\n",
      "Epoch 34/150\n",
      "282/282 [==============================] - 31s 109ms/step - loss: 0.3080 - accuracy: 0.8754 - val_loss: 0.2645 - val_accuracy: 0.8882\n",
      "Epoch 35/150\n",
      "282/282 [==============================] - 31s 109ms/step - loss: 0.3160 - accuracy: 0.8736 - val_loss: 0.2593 - val_accuracy: 0.8882\n",
      "Epoch 36/150\n",
      "282/282 [==============================] - 31s 110ms/step - loss: 0.3013 - accuracy: 0.8827 - val_loss: 0.2481 - val_accuracy: 0.8942\n",
      "Epoch 37/150\n",
      "282/282 [==============================] - 36s 127ms/step - loss: 0.2975 - accuracy: 0.8816 - val_loss: 0.2554 - val_accuracy: 0.8982\n",
      "Epoch 38/150\n",
      "282/282 [==============================] - 31s 110ms/step - loss: 0.2845 - accuracy: 0.8832 - val_loss: 0.2654 - val_accuracy: 0.8942\n",
      "Epoch 39/150\n",
      "282/282 [==============================] - 31s 111ms/step - loss: 0.2764 - accuracy: 0.8879 - val_loss: 0.2556 - val_accuracy: 0.8902\n",
      "Epoch 40/150\n",
      "282/282 [==============================] - 31s 109ms/step - loss: 0.2753 - accuracy: 0.8896 - val_loss: 0.2827 - val_accuracy: 0.8842\n",
      "Epoch 41/150\n",
      "282/282 [==============================] - 31s 109ms/step - loss: 0.2590 - accuracy: 0.8992 - val_loss: 0.2641 - val_accuracy: 0.8922\n",
      "Epoch 42/150\n",
      "282/282 [==============================] - 31s 108ms/step - loss: 0.2791 - accuracy: 0.8847 - val_loss: 0.2524 - val_accuracy: 0.8962\n",
      "Epoch 43/150\n",
      "282/282 [==============================] - 30s 108ms/step - loss: 0.2707 - accuracy: 0.8943 - val_loss: 0.2707 - val_accuracy: 0.8942\n",
      "Epoch 44/150\n",
      "282/282 [==============================] - 31s 110ms/step - loss: 0.2638 - accuracy: 0.8918 - val_loss: 0.2662 - val_accuracy: 0.8922\n",
      "Epoch 45/150\n",
      "282/282 [==============================] - 31s 110ms/step - loss: 0.2448 - accuracy: 0.9038 - val_loss: 0.2474 - val_accuracy: 0.8982\n",
      "Epoch 46/150\n",
      "282/282 [==============================] - 37s 131ms/step - loss: 0.2533 - accuracy: 0.9001 - val_loss: 0.2405 - val_accuracy: 0.9102\n",
      "Epoch 47/150\n",
      "282/282 [==============================] - 31s 109ms/step - loss: 0.2440 - accuracy: 0.9025 - val_loss: 0.2403 - val_accuracy: 0.9102\n",
      "Epoch 48/150\n",
      "282/282 [==============================] - 30s 108ms/step - loss: 0.2323 - accuracy: 0.9087 - val_loss: 0.2599 - val_accuracy: 0.9042\n",
      "Epoch 49/150\n",
      "282/282 [==============================] - 30s 108ms/step - loss: 0.2280 - accuracy: 0.9061 - val_loss: 0.2597 - val_accuracy: 0.9062\n",
      "Epoch 50/150\n",
      "282/282 [==============================] - 31s 109ms/step - loss: 0.2375 - accuracy: 0.9109 - val_loss: 0.2589 - val_accuracy: 0.8922\n",
      "Epoch 51/150\n",
      "282/282 [==============================] - 31s 110ms/step - loss: 0.2225 - accuracy: 0.9096 - val_loss: 0.2835 - val_accuracy: 0.9042\n",
      "Epoch 52/150\n",
      "282/282 [==============================] - 31s 110ms/step - loss: 0.2094 - accuracy: 0.9214 - val_loss: 0.2607 - val_accuracy: 0.8942\n",
      "Epoch 53/150\n",
      "282/282 [==============================] - 31s 109ms/step - loss: 0.2087 - accuracy: 0.9161 - val_loss: 0.2686 - val_accuracy: 0.9042\n",
      "Epoch 54/150\n",
      "282/282 [==============================] - 31s 108ms/step - loss: 0.2021 - accuracy: 0.9203 - val_loss: 0.2490 - val_accuracy: 0.9022\n",
      "Epoch 55/150\n",
      "282/282 [==============================] - 36s 129ms/step - loss: 0.2253 - accuracy: 0.9154 - val_loss: 0.2379 - val_accuracy: 0.9122\n",
      "Epoch 56/150\n",
      "282/282 [==============================] - 37s 130ms/step - loss: 0.1913 - accuracy: 0.9272 - val_loss: 0.2549 - val_accuracy: 0.9162\n",
      "Epoch 57/150\n",
      "282/282 [==============================] - 31s 110ms/step - loss: 0.1952 - accuracy: 0.9218 - val_loss: 0.2602 - val_accuracy: 0.9082\n",
      "Epoch 58/150\n",
      "282/282 [==============================] - 31s 111ms/step - loss: 0.1893 - accuracy: 0.9287 - val_loss: 0.2783 - val_accuracy: 0.9142\n",
      "Epoch 59/150\n",
      "282/282 [==============================] - 31s 109ms/step - loss: 0.1911 - accuracy: 0.9274 - val_loss: 0.2670 - val_accuracy: 0.9162\n",
      "Epoch 60/150\n",
      "282/282 [==============================] - 31s 109ms/step - loss: 0.1654 - accuracy: 0.9356 - val_loss: 0.3132 - val_accuracy: 0.8982\n",
      "Epoch 61/150\n",
      "282/282 [==============================] - 31s 109ms/step - loss: 0.2099 - accuracy: 0.9205 - val_loss: 0.2736 - val_accuracy: 0.9002\n",
      "Epoch 62/150\n",
      "282/282 [==============================] - 31s 110ms/step - loss: 0.1788 - accuracy: 0.9334 - val_loss: 0.2922 - val_accuracy: 0.9022\n",
      "Epoch 63/150\n",
      "282/282 [==============================] - 31s 109ms/step - loss: 0.1808 - accuracy: 0.9314 - val_loss: 0.2754 - val_accuracy: 0.8982\n",
      "Epoch 64/150\n",
      "282/282 [==============================] - 30s 108ms/step - loss: 0.1591 - accuracy: 0.9407 - val_loss: 0.2551 - val_accuracy: 0.9082\n",
      "Epoch 65/150\n",
      "282/282 [==============================] - 30s 107ms/step - loss: 0.1707 - accuracy: 0.9369 - val_loss: 0.2961 - val_accuracy: 0.9062\n",
      "Epoch 66/150\n",
      "282/282 [==============================] - 31s 109ms/step - loss: 0.1633 - accuracy: 0.9403 - val_loss: 0.2738 - val_accuracy: 0.9022\n",
      "Epoch 67/150\n",
      "282/282 [==============================] - 31s 108ms/step - loss: 0.1876 - accuracy: 0.9343 - val_loss: 0.2661 - val_accuracy: 0.9142\n",
      "Epoch 68/150\n",
      "282/282 [==============================] - 31s 108ms/step - loss: 0.1450 - accuracy: 0.9445 - val_loss: 0.3167 - val_accuracy: 0.9122\n",
      "Epoch 69/150\n",
      "282/282 [==============================] - 31s 109ms/step - loss: 0.1532 - accuracy: 0.9449 - val_loss: 0.2960 - val_accuracy: 0.8962\n",
      "Epoch 70/150\n",
      "282/282 [==============================] - 36s 128ms/step - loss: 0.1653 - accuracy: 0.9465 - val_loss: 0.2520 - val_accuracy: 0.9222\n",
      "Epoch 71/150\n",
      "282/282 [==============================] - 36s 128ms/step - loss: 0.1483 - accuracy: 0.9460 - val_loss: 0.2697 - val_accuracy: 0.9281\n",
      "Epoch 72/150\n",
      "282/282 [==============================] - 31s 110ms/step - loss: 0.1681 - accuracy: 0.9385 - val_loss: 0.3207 - val_accuracy: 0.9082\n",
      "Epoch 73/150\n",
      "282/282 [==============================] - 31s 109ms/step - loss: 0.1501 - accuracy: 0.9454 - val_loss: 0.2472 - val_accuracy: 0.9242\n",
      "Epoch 74/150\n",
      "282/282 [==============================] - 31s 110ms/step - loss: 0.1402 - accuracy: 0.9469 - val_loss: 0.2828 - val_accuracy: 0.9162\n",
      "Epoch 75/150\n",
      "282/282 [==============================] - 31s 109ms/step - loss: 0.1503 - accuracy: 0.9511 - val_loss: 0.2867 - val_accuracy: 0.9162\n",
      "Epoch 76/150\n",
      "282/282 [==============================] - 31s 108ms/step - loss: 0.1345 - accuracy: 0.9511 - val_loss: 0.3207 - val_accuracy: 0.9222\n",
      "Epoch 77/150\n",
      "282/282 [==============================] - 31s 109ms/step - loss: 0.1340 - accuracy: 0.9511 - val_loss: 0.2958 - val_accuracy: 0.9182\n",
      "Epoch 78/150\n",
      "282/282 [==============================] - 31s 110ms/step - loss: 0.1349 - accuracy: 0.9540 - val_loss: 0.3055 - val_accuracy: 0.9242\n",
      "Epoch 79/150\n",
      "282/282 [==============================] - 31s 109ms/step - loss: 0.1230 - accuracy: 0.9531 - val_loss: 0.3405 - val_accuracy: 0.9182\n",
      "Epoch 80/150\n",
      "282/282 [==============================] - 31s 109ms/step - loss: 0.1156 - accuracy: 0.9585 - val_loss: 0.3481 - val_accuracy: 0.9242\n",
      "Epoch 81/150\n",
      "282/282 [==============================] - 31s 109ms/step - loss: 0.1358 - accuracy: 0.9518 - val_loss: 0.3121 - val_accuracy: 0.9202\n",
      "Epoch 82/150\n",
      "282/282 [==============================] - 31s 109ms/step - loss: 0.1311 - accuracy: 0.9500 - val_loss: 0.3466 - val_accuracy: 0.9182\n",
      "Epoch 83/150\n",
      "282/282 [==============================] - 30s 108ms/step - loss: 0.1061 - accuracy: 0.9598 - val_loss: 0.3484 - val_accuracy: 0.9162\n",
      "Epoch 84/150\n",
      "282/282 [==============================] - 31s 110ms/step - loss: 0.0965 - accuracy: 0.9651 - val_loss: 0.3439 - val_accuracy: 0.9162\n",
      "Epoch 85/150\n",
      "282/282 [==============================] - ETA: 0s - loss: 0.1150 - accuracy: 0.9609Restoring model weights from the end of the best epoch: 55.\n",
      "282/282 [==============================] - 31s 110ms/step - loss: 0.1150 - accuracy: 0.9609 - val_loss: 0.3475 - val_accuracy: 0.9082\n",
      "Epoch 85: early stopping\n"
     ]
    }
   ],
   "source": [
    "batch_size=16\n",
    "epochs=150\n",
    "history = model.fit(\n",
    "    x=X_train,\n",
    "    y=y_train,\n",
    "    epochs=epochs,\n",
    "    batch_size=batch_size,\n",
    "    validation_data=(X_val, y_val),\n",
    "    class_weight=class_weights_dict,\n",
    "    callbacks=[early_stopping, model_checkpoint],\n",
    "    verbose=1\n",
    ")"
   ]
  },
  {
   "cell_type": "code",
   "execution_count": 35,
   "metadata": {
    "colab": {
     "base_uri": "https://localhost:8080/"
    },
    "id": "98z5FdMNapF3",
    "outputId": "390f483f-af9d-4b59-e81c-52782bc1e7aa"
   },
   "outputs": [
    {
     "name": "stdout",
     "output_type": "stream",
     "text": [
      "141/141 [==============================] - 8s 53ms/step - loss: 0.0946 - accuracy: 0.9642\n",
      "Test loss: 0.09462252259254456\n",
      "Test accuracy: 0.9642460346221924\n"
     ]
    }
   ],
   "source": [
    "# Evaluate the model on the test set\n",
    "#model.load_weights(\"best_model.h5\")\n",
    "test_loss, test_accuracy = model.evaluate(X_train, y_train, verbose=1)\n",
    "\n",
    "print(\"Test loss:\", test_loss)\n",
    "print(\"Test accuracy:\", test_accuracy)"
   ]
  },
  {
   "cell_type": "code",
   "execution_count": 15,
   "metadata": {},
   "outputs": [
    {
     "name": "stdout",
     "output_type": "stream",
     "text": [
      "141/141 [==============================] - 8s 55ms/step - loss: 0.0667 - accuracy: 0.9782\n",
      "Test loss: 0.06669215112924576\n",
      "Test accuracy: 0.978236734867096\n"
     ]
    }
   ],
   "source": [
    "# Evaluate the model on the test set\n",
    "#model.load_weights(\"best_model.h5\")\n",
    "test_loss, test_accuracy = model.evaluate(X_train, y_train, verbose=1)\n",
    "\n",
    "print(\"Test loss:\", test_loss)\n",
    "print(\"Test accuracy:\", test_accuracy)"
   ]
  },
  {
   "cell_type": "code",
   "execution_count": 24,
   "metadata": {
    "colab": {
     "base_uri": "https://localhost:8080/"
    },
    "id": "1uO_4xZhkoaP",
    "outputId": "29ea876b-dae4-4bfc-f9a1-481fe9218c97"
   },
   "outputs": [
    {
     "name": "stdout",
     "output_type": "stream",
     "text": [
      "4/4 [==============================] - 0s 29ms/step - loss: 0.0864 - accuracy: 0.9703\n",
      "Test loss: 0.08644472062587738\n",
      "Test accuracy: 0.9702970385551453\n"
     ]
    }
   ],
   "source": [
    "A, X_test_new, b, y_test_new = train_test_split(X_test, y_test, test_size=0.1)\n",
    "test_loss, test_accuracy = model.evaluate(X_test_new, y_test_new, verbose=1)\n",
    "print(\"Test loss:\", test_loss)\n",
    "print(\"Test accuracy:\", test_accuracy)"
   ]
  },
  {
   "cell_type": "code",
   "execution_count": 16,
   "metadata": {
    "id": "nPHU6ljLsenc"
   },
   "outputs": [],
   "source": [
    "model.save('saved_model')"
   ]
  },
  {
   "cell_type": "code",
   "execution_count": 13,
   "metadata": {},
   "outputs": [],
   "source": [
    "model.load_weights(\"best_model.h5\")"
   ]
  },
  {
   "cell_type": "code",
   "execution_count": 32,
   "metadata": {},
   "outputs": [
    {
     "name": "stdout",
     "output_type": "stream",
     "text": [
      "Epoch 1/50\n",
      "32/32 [==============================] - 97s 591ms/step - loss: 0.4269 - accuracy: 0.8563 - val_loss: 0.0702 - val_accuracy: 0.9782\n",
      "Epoch 2/50\n",
      "32/32 [==============================] - 13s 425ms/step - loss: 0.3772 - accuracy: 0.8683 - val_loss: 0.0793 - val_accuracy: 0.9709\n",
      "Epoch 3/50\n",
      "32/32 [==============================] - 13s 425ms/step - loss: 0.3181 - accuracy: 0.8663 - val_loss: 0.0698 - val_accuracy: 0.9796\n",
      "Epoch 4/50\n",
      "32/32 [==============================] - 13s 422ms/step - loss: 0.3414 - accuracy: 0.8762 - val_loss: 0.0832 - val_accuracy: 0.9773\n",
      "Epoch 5/50\n",
      "32/32 [==============================] - 13s 422ms/step - loss: 0.3077 - accuracy: 0.8703 - val_loss: 0.0767 - val_accuracy: 0.9805\n",
      "Epoch 6/50\n",
      "32/32 [==============================] - 13s 421ms/step - loss: 0.2783 - accuracy: 0.9042 - val_loss: 0.0836 - val_accuracy: 0.9773\n",
      "Epoch 7/50\n",
      "32/32 [==============================] - 13s 422ms/step - loss: 0.2727 - accuracy: 0.8902 - val_loss: 0.0808 - val_accuracy: 0.9769\n",
      "Epoch 8/50\n",
      "32/32 [==============================] - 13s 422ms/step - loss: 0.2600 - accuracy: 0.8922 - val_loss: 0.0859 - val_accuracy: 0.9791\n",
      "Epoch 9/50\n",
      "32/32 [==============================] - 13s 421ms/step - loss: 0.3144 - accuracy: 0.8902 - val_loss: 0.0851 - val_accuracy: 0.9758\n",
      "Epoch 10/50\n",
      "32/32 [==============================] - 13s 422ms/step - loss: 0.2412 - accuracy: 0.9022 - val_loss: 0.0882 - val_accuracy: 0.9785\n",
      "Epoch 11/50\n",
      "32/32 [==============================] - 13s 423ms/step - loss: 0.2365 - accuracy: 0.9002 - val_loss: 0.0867 - val_accuracy: 0.9798\n",
      "Epoch 12/50\n",
      "32/32 [==============================] - 13s 421ms/step - loss: 0.2627 - accuracy: 0.8723 - val_loss: 0.0890 - val_accuracy: 0.9771\n",
      "Epoch 13/50\n",
      "32/32 [==============================] - 13s 422ms/step - loss: 0.2223 - accuracy: 0.9142 - val_loss: 0.0840 - val_accuracy: 0.9769\n",
      "Epoch 14/50\n",
      "32/32 [==============================] - 13s 423ms/step - loss: 0.2112 - accuracy: 0.9182 - val_loss: 0.0821 - val_accuracy: 0.9753\n",
      "Epoch 15/50\n",
      "32/32 [==============================] - 13s 425ms/step - loss: 0.2475 - accuracy: 0.9002 - val_loss: 0.0801 - val_accuracy: 0.9738\n",
      "Epoch 16/50\n",
      "32/32 [==============================] - 13s 422ms/step - loss: 0.2010 - accuracy: 0.9122 - val_loss: 0.0813 - val_accuracy: 0.9720\n",
      "Epoch 17/50\n",
      "32/32 [==============================] - 13s 422ms/step - loss: 0.2217 - accuracy: 0.9162 - val_loss: 0.0785 - val_accuracy: 0.9736\n",
      "Epoch 18/50\n",
      "32/32 [==============================] - 13s 423ms/step - loss: 0.2390 - accuracy: 0.9102 - val_loss: 0.0822 - val_accuracy: 0.9753\n",
      "Epoch 19/50\n",
      "32/32 [==============================] - 13s 421ms/step - loss: 0.2241 - accuracy: 0.9162 - val_loss: 0.0818 - val_accuracy: 0.9718\n",
      "Epoch 20/50\n",
      "32/32 [==============================] - 13s 422ms/step - loss: 0.1884 - accuracy: 0.9122 - val_loss: 0.0815 - val_accuracy: 0.9758\n",
      "Epoch 21/50\n",
      "32/32 [==============================] - 13s 422ms/step - loss: 0.1790 - accuracy: 0.9222 - val_loss: 0.0788 - val_accuracy: 0.9720\n",
      "Epoch 22/50\n",
      "32/32 [==============================] - 13s 414ms/step - loss: 0.2478 - accuracy: 0.9002 - val_loss: 0.0749 - val_accuracy: 0.9734\n",
      "Epoch 23/50\n",
      "32/32 [==============================] - 13s 401ms/step - loss: 0.1858 - accuracy: 0.9361 - val_loss: 0.0799 - val_accuracy: 0.9725\n",
      "Epoch 24/50\n",
      "32/32 [==============================] - 13s 408ms/step - loss: 0.1705 - accuracy: 0.9321 - val_loss: 0.0829 - val_accuracy: 0.9700\n",
      "Epoch 25/50\n",
      "32/32 [==============================] - 12s 396ms/step - loss: 0.1815 - accuracy: 0.9301 - val_loss: 0.0758 - val_accuracy: 0.9714\n",
      "Epoch 26/50\n",
      "32/32 [==============================] - 12s 398ms/step - loss: 0.2268 - accuracy: 0.9261 - val_loss: 0.0792 - val_accuracy: 0.9707\n",
      "Epoch 27/50\n",
      "32/32 [==============================] - 13s 406ms/step - loss: 0.1446 - accuracy: 0.9501 - val_loss: 0.0888 - val_accuracy: 0.9654\n",
      "Epoch 28/50\n",
      "32/32 [==============================] - 13s 406ms/step - loss: 0.1967 - accuracy: 0.9301 - val_loss: 0.0788 - val_accuracy: 0.9709\n",
      "Epoch 29/50\n",
      "32/32 [==============================] - 13s 409ms/step - loss: 0.1573 - accuracy: 0.9361 - val_loss: 0.0980 - val_accuracy: 0.9583\n",
      "Epoch 30/50\n",
      "32/32 [==============================] - 13s 408ms/step - loss: 0.2064 - accuracy: 0.9261 - val_loss: 0.0993 - val_accuracy: 0.9598\n",
      "Epoch 31/50\n",
      "32/32 [==============================] - 13s 417ms/step - loss: 0.1439 - accuracy: 0.9561 - val_loss: 0.0919 - val_accuracy: 0.9645\n",
      "Epoch 32/50\n",
      "32/32 [==============================] - 13s 409ms/step - loss: 0.1407 - accuracy: 0.9461 - val_loss: 0.0879 - val_accuracy: 0.9640\n",
      "Epoch 33/50\n",
      "32/32 [==============================] - 13s 420ms/step - loss: 0.1850 - accuracy: 0.9341 - val_loss: 0.0845 - val_accuracy: 0.9651\n",
      "Epoch 34/50\n",
      "32/32 [==============================] - 13s 402ms/step - loss: 0.1281 - accuracy: 0.9521 - val_loss: 0.0794 - val_accuracy: 0.9700\n",
      "Epoch 35/50\n",
      "32/32 [==============================] - 13s 408ms/step - loss: 0.1915 - accuracy: 0.9261 - val_loss: 0.0808 - val_accuracy: 0.9667\n",
      "Epoch 36/50\n",
      "32/32 [==============================] - 13s 411ms/step - loss: 0.1186 - accuracy: 0.9581 - val_loss: 0.0832 - val_accuracy: 0.9662\n",
      "Epoch 37/50\n",
      "32/32 [==============================] - 12s 397ms/step - loss: 0.1182 - accuracy: 0.9621 - val_loss: 0.0973 - val_accuracy: 0.9567\n",
      "Epoch 38/50\n",
      "32/32 [==============================] - 13s 406ms/step - loss: 0.1475 - accuracy: 0.9501 - val_loss: 0.0909 - val_accuracy: 0.9627\n",
      "Epoch 39/50\n",
      "32/32 [==============================] - 13s 403ms/step - loss: 0.1551 - accuracy: 0.9501 - val_loss: 0.0830 - val_accuracy: 0.9678\n",
      "Epoch 40/50\n",
      "32/32 [==============================] - 13s 407ms/step - loss: 0.1100 - accuracy: 0.9641 - val_loss: 0.0983 - val_accuracy: 0.9554\n",
      "Epoch 41/50\n",
      "32/32 [==============================] - 13s 410ms/step - loss: 0.1660 - accuracy: 0.9381 - val_loss: 0.0927 - val_accuracy: 0.9662\n",
      "Epoch 42/50\n",
      "32/32 [==============================] - 13s 401ms/step - loss: 0.1274 - accuracy: 0.9581 - val_loss: 0.1174 - val_accuracy: 0.9540\n",
      "Epoch 43/50\n",
      "32/32 [==============================] - 13s 407ms/step - loss: 0.1187 - accuracy: 0.9561 - val_loss: 0.1140 - val_accuracy: 0.9531\n",
      "Epoch 44/50\n",
      "32/32 [==============================] - 12s 393ms/step - loss: 0.1314 - accuracy: 0.9481 - val_loss: 0.1092 - val_accuracy: 0.9556\n",
      "Epoch 45/50\n",
      "32/32 [==============================] - 13s 409ms/step - loss: 0.1978 - accuracy: 0.9401 - val_loss: 0.1024 - val_accuracy: 0.9598\n",
      "Epoch 46/50\n",
      "32/32 [==============================] - 13s 414ms/step - loss: 0.1513 - accuracy: 0.9501 - val_loss: 0.0967 - val_accuracy: 0.9631\n",
      "Epoch 47/50\n",
      "32/32 [==============================] - 13s 401ms/step - loss: 0.0933 - accuracy: 0.9780 - val_loss: 0.1011 - val_accuracy: 0.9587\n",
      "Epoch 48/50\n",
      "32/32 [==============================] - 13s 412ms/step - loss: 0.1030 - accuracy: 0.9741 - val_loss: 0.0903 - val_accuracy: 0.9654\n",
      "Epoch 49/50\n",
      "32/32 [==============================] - 13s 405ms/step - loss: 0.1259 - accuracy: 0.9541 - val_loss: 0.0924 - val_accuracy: 0.9618\n",
      "Epoch 50/50\n",
      "32/32 [==============================] - 13s 401ms/step - loss: 0.0896 - accuracy: 0.9741 - val_loss: 0.0946 - val_accuracy: 0.9642\n"
     ]
    }
   ],
   "source": [
    "batch_size=16\n",
    "epochs=50\n",
    "model.compile(loss=tfk.losses.BinaryCrossentropy(), optimizer=tfk.optimizers.Adam(1e-5), metrics='accuracy')\n",
    "history = model.fit(\n",
    "    x=X_val,\n",
    "    y=y_val,\n",
    "    epochs=epochs,\n",
    "    batch_size=batch_size,\n",
    "    validation_data=(X_train, y_train),\n",
    "    class_weight=class_weights_dict,\n",
    "    verbose=1\n",
    ")"
   ]
  },
  {
   "cell_type": "code",
   "execution_count": 33,
   "metadata": {},
   "outputs": [],
   "source": [
    "model.save_weights(\"96-97_acc.h5\")"
   ]
  },
  {
   "cell_type": "code",
   "execution_count": 38,
   "metadata": {},
   "outputs": [],
   "source": [
    "model.save(\"saved_model\")"
   ]
  },
  {
   "cell_type": "code",
   "execution_count": null,
   "metadata": {},
   "outputs": [],
   "source": []
  }
 ],
 "metadata": {
  "accelerator": "GPU",
  "colab": {
   "gpuType": "T4",
   "provenance": []
  },
  "kernelspec": {
   "display_name": "Python 3 (ipykernel)",
   "language": "python",
   "name": "python3"
  },
  "language_info": {
   "codemirror_mode": {
    "name": "ipython",
    "version": 3
   },
   "file_extension": ".py",
   "mimetype": "text/x-python",
   "name": "python",
   "nbconvert_exporter": "python",
   "pygments_lexer": "ipython3",
   "version": "3.10.13"
  }
 },
 "nbformat": 4,
 "nbformat_minor": 4
}
