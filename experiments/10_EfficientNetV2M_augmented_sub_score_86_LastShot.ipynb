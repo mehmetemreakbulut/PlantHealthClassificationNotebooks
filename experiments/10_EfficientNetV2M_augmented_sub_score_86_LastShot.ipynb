{
  "cells": [
    {
      "cell_type": "code",
      "source": [
        "from google.colab import drive\n",
        "drive.mount('/content/drive')"
      ],
      "metadata": {
        "colab": {
          "base_uri": "https://localhost:8080/"
        },
        "id": "i3Yf6kbhrCCz",
        "outputId": "07f2a8bb-04de-4eb0-e78f-0b713a69b2cc"
      },
      "execution_count": null,
      "outputs": [
        {
          "output_type": "stream",
          "name": "stdout",
          "text": [
            "Drive already mounted at /content/drive; to attempt to forcibly remount, call drive.mount(\"/content/drive\", force_remount=True).\n"
          ]
        }
      ]
    },
    {
      "cell_type": "code",
      "execution_count": null,
      "metadata": {
        "colab": {
          "base_uri": "https://localhost:8080/"
        },
        "id": "JPb-oepWMoel",
        "outputId": "01015710-1625-4693-8ef1-94a4ecd2695f"
      },
      "outputs": [
        {
          "output_type": "stream",
          "name": "stdout",
          "text": [
            "2.14.0\n"
          ]
        }
      ],
      "source": [
        "# Fix randomness and hide warnings\n",
        "seed = 42\n",
        "\n",
        "import os\n",
        "os.environ['TF_CPP_MIN_LOG_LEVEL'] = '3'\n",
        "os.environ['PYTHONHASHSEED'] = str(seed)\n",
        "os.environ['MPLCONFIGDIR'] = os.getcwd()+'/configs/'\n",
        "\n",
        "import warnings\n",
        "warnings.simplefilter(action='ignore', category=FutureWarning)\n",
        "warnings.simplefilter(action='ignore', category=Warning)\n",
        "\n",
        "import numpy as np\n",
        "np.random.seed(seed)\n",
        "\n",
        "import logging\n",
        "\n",
        "import random\n",
        "random.seed(seed)\n",
        "\n",
        "# Tensorflow\n",
        "import tensorflow as tf\n",
        "from tensorflow import keras as tfk\n",
        "from keras import layers as tfkl\n",
        "tf.autograph.set_verbosity(0)\n",
        "tf.get_logger().setLevel(logging.ERROR)\n",
        "tf.compat.v1.logging.set_verbosity(tf.compat.v1.logging.ERROR)\n",
        "tf.random.set_seed(seed)\n",
        "tf.compat.v1.set_random_seed(seed)\n",
        "print(tf.__version__)\n",
        "\n",
        "# Some libraries\n",
        "import matplotlib.pyplot as plt\n",
        "import pandas as pd\n",
        "from sklearn.model_selection import train_test_split\n",
        "from sklearn.metrics import accuracy_score, f1_score, precision_score, recall_score, confusion_matrix\n",
        "import seaborn as sns\n",
        "\n",
        "input_file = np.load('/content/drive/My Drive/public_data.npz', allow_pickle=True)\n",
        "data = input_file['data']\n",
        "\n",
        "labels = input_file['labels']\n",
        "\n",
        "label_dict = {'healthy': 0, 'unhealthy': 1}\n",
        "labels = np.array([label_dict[label] for label in labels])\n"
      ]
    },
    {
      "cell_type": "code",
      "execution_count": null,
      "metadata": {
        "id": "iyW8ZLuF7snN"
      },
      "outputs": [],
      "source": [
        "#data = data/255.0\n",
        "\n",
        "from keras.applications.efficientnet_v2 import preprocess_input\n",
        "data = preprocess_input(data)"
      ]
    },
    {
      "cell_type": "code",
      "execution_count": null,
      "metadata": {
        "id": "K-INeLsUTutg"
      },
      "outputs": [],
      "source": [
        "shrek_indices = []\n",
        "trol_indices = []\n",
        "new_data = []\n",
        "new_labels = []\n",
        "for i, image in enumerate(data):\n",
        "  if np.sum(data[506] - image) == 0:\n",
        "    shrek_indices.append(i)\n",
        "  elif np.sum(data[338] - image) == 0:\n",
        "    trol_indices.append(i)\n",
        "  else:\n",
        "    new_data.append(image)\n",
        "    new_labels.append(labels[i])\n",
        "\n",
        "images = np.array(new_data)\n",
        "labels = np.array(new_labels)\n",
        "labels = tfk.utils.to_categorical(labels)"
      ]
    },
    {
      "cell_type": "code",
      "execution_count": null,
      "metadata": {
        "id": "2s7QHqECMsxi"
      },
      "outputs": [],
      "source": [
        "X_train, X_val, y_train, y_val = train_test_split(images, labels, test_size=0.2, stratify=labels, random_state=seed)"
      ]
    },
    {
      "cell_type": "code",
      "execution_count": null,
      "metadata": {
        "id": "_cC_ZrfJNO1V"
      },
      "outputs": [],
      "source": [
        "input_shape = X_train.shape[1:]  # Input shape for the model"
      ]
    },
    {
      "cell_type": "code",
      "execution_count": null,
      "metadata": {
        "id": "Nh9o9JVcNRWF"
      },
      "outputs": [],
      "source": [
        "learned_model = tfk.applications.EfficientNetV2M(\n",
        "    input_shape=(96, 96, 3),\n",
        "    include_top=False,\n",
        "    weights=\"imagenet\",\n",
        "    pooling='max',\n",
        ")"
      ]
    },
    {
      "cell_type": "code",
      "execution_count": null,
      "metadata": {
        "id": "0WSPyd2hPcnp"
      },
      "outputs": [],
      "source": [
        "learned_model.trainable = True"
      ]
    },
    {
      "cell_type": "code",
      "execution_count": null,
      "metadata": {
        "id": "lcnVUT-5Pbz8"
      },
      "outputs": [],
      "source": [
        "N = 200\n",
        "for i, layer in enumerate(learned_model.layers[:N]):\n",
        "  layer.trainable=False"
      ]
    },
    {
      "cell_type": "code",
      "execution_count": null,
      "metadata": {
        "id": "vRul5dEJNuHr"
      },
      "outputs": [],
      "source": [
        "preprocessing = tf.keras.Sequential([\n",
        "    tfkl.RandomFlip(\"horizontal_and_vertical\"),\n",
        "    tfkl.RandomRotation(0.5),\n",
        "    #tfkl.GaussianNoise(0.3),\n",
        "    #tfkl.RandomContrast(0.4),\n",
        "    #tfkl.RandomBrightness(0.4),\n",
        "], name='preprocessing')\n",
        "\n",
        "\n",
        "input_layer = tfkl.Input(shape=input_shape)\n",
        "x = preprocessing(input_layer)"
      ]
    },
    {
      "cell_type": "code",
      "execution_count": null,
      "metadata": {
        "id": "rq05G8FoO2f5"
      },
      "outputs": [],
      "source": [
        "x = learned_model(x)"
      ]
    },
    {
      "cell_type": "code",
      "execution_count": null,
      "metadata": {
        "id": "Bn4-w2C9PMb9"
      },
      "outputs": [],
      "source": [
        "from keras import regularizers\n",
        "\n",
        "x = tfkl.Flatten(name='flattenLast')(x)\n",
        "x = tfkl.Dropout(0.1)(x)\n",
        "x = tfkl.Dense(512, activation='relu', name='Dense_1')(x)\n",
        "x = tfkl.Dropout(0.1)(x)\n",
        "x = tfkl.Dense(256, activation='relu', name='Dense_2')(x)\n",
        "x = tfkl.Dropout(0.1)(x)\n",
        "x = tfkl.Dense(128, activation='relu', name='Dense_3')(x)\n",
        "x = tfkl.Dropout(0.1)(x)\n",
        "x = tfkl.Dense(64, activation='relu', name='Dense_4')(x)\n",
        "x = tfkl.Dense(16, activation='relu', name='Dense_5')(x)\n",
        "output_layer = tfkl.Dense(2, activation='sigmoid', name='output')(x)\n",
        "\n",
        "model = tf.keras.Model(inputs=input_layer, outputs=output_layer)"
      ]
    },
    {
      "cell_type": "code",
      "execution_count": null,
      "metadata": {
        "colab": {
          "base_uri": "https://localhost:8080/"
        },
        "id": "BFkokwZ1PN-X",
        "outputId": "0bd1be52-1289-45d7-a70a-2b92af700378"
      },
      "outputs": [
        {
          "output_type": "stream",
          "name": "stdout",
          "text": [
            "Model: \"model_1\"\n",
            "_________________________________________________________________\n",
            " Layer (type)                Output Shape              Param #   \n",
            "=================================================================\n",
            " input_4 (InputLayer)        [(None, 96, 96, 3)]       0         \n",
            "                                                                 \n",
            " preprocessing (Sequential)  (None, 96, 96, 3)         0         \n",
            "                                                                 \n",
            " efficientnetv2-m (Function  (None, 1280)              53150388  \n",
            " al)                                                             \n",
            "                                                                 \n",
            " flattenLast (Flatten)       (None, 1280)              0         \n",
            "                                                                 \n",
            " dropout_4 (Dropout)         (None, 1280)              0         \n",
            "                                                                 \n",
            " Dense_1 (Dense)             (None, 512)               655872    \n",
            "                                                                 \n",
            " dropout_5 (Dropout)         (None, 512)               0         \n",
            "                                                                 \n",
            " Dense_2 (Dense)             (None, 256)               131328    \n",
            "                                                                 \n",
            " dropout_6 (Dropout)         (None, 256)               0         \n",
            "                                                                 \n",
            " Dense_3 (Dense)             (None, 128)               32896     \n",
            "                                                                 \n",
            " dropout_7 (Dropout)         (None, 128)               0         \n",
            "                                                                 \n",
            " Dense_4 (Dense)             (None, 64)                8256      \n",
            "                                                                 \n",
            " Dense_5 (Dense)             (None, 16)                1040      \n",
            "                                                                 \n",
            " output (Dense)              (None, 2)                 34        \n",
            "                                                                 \n",
            "=================================================================\n",
            "Total params: 53979814 (205.92 MB)\n",
            "Trainable params: 50049970 (190.93 MB)\n",
            "Non-trainable params: 3929844 (14.99 MB)\n",
            "_________________________________________________________________\n"
          ]
        }
      ],
      "source": [
        "model.compile(loss=tfk.losses.BinaryCrossentropy(), optimizer=tfk.optimizers.AdamW(1e-5), metrics='accuracy')\n",
        "model.summary()"
      ]
    },
    {
      "cell_type": "code",
      "execution_count": null,
      "metadata": {
        "id": "Qyv-LU3fUB2g"
      },
      "outputs": [],
      "source": [
        "early_stopping = tfk.callbacks.EarlyStopping(monitor='val_loss', patience=10, verbose=1, mode='min', restore_best_weights=True)"
      ]
    },
    {
      "cell_type": "code",
      "execution_count": null,
      "metadata": {
        "id": "tN286d7yToOc"
      },
      "outputs": [],
      "source": [
        "model_checkpoint = tfk.callbacks.ModelCheckpoint('best_model_finetune.h5', monitor='val_accuracy', save_best_only=True, mode='max')"
      ]
    },
    {
      "cell_type": "code",
      "execution_count": null,
      "metadata": {
        "colab": {
          "base_uri": "https://localhost:8080/"
        },
        "id": "hVanTcK3UMRR",
        "outputId": "7f555c8f-15fa-419b-ecf6-f345117edbde"
      },
      "outputs": [
        {
          "output_type": "stream",
          "name": "stdout",
          "text": [
            "Class weights: {0: 0.81, 1: 1.29}\n"
          ]
        }
      ],
      "source": [
        "from sklearn.utils.class_weight import compute_class_weight\n",
        "#class_weights = compute_class_weight('balanced', classes=np.unique(y_train), y=y_train)\n",
        "#class_weights = compute_class_weight('balanced', classes=np.unique(labels), y=labels)\n",
        "class_weights_dict = {0: 0.81, 1: 1.29}\n",
        "\n",
        "print(f\"Class weights: {class_weights_dict}\")"
      ]
    },
    {
      "cell_type": "code",
      "execution_count": null,
      "metadata": {
        "colab": {
          "base_uri": "https://localhost:8080/"
        },
        "id": "KWNqMePaUdoz",
        "outputId": "3bee8311-caaa-4f76-9210-80b193bba38c"
      },
      "outputs": [
        {
          "output_type": "stream",
          "name": "stdout",
          "text": [
            "Epoch 1/34\n",
            "313/313 [==============================] - 168s 225ms/step - loss: 0.6979 - accuracy: 0.5791 - val_loss: 0.6659 - val_accuracy: 0.6503\n",
            "Epoch 2/34\n",
            "313/313 [==============================] - 63s 200ms/step - loss: 0.6518 - accuracy: 0.6631 - val_loss: 0.5578 - val_accuracy: 0.7473\n",
            "Epoch 3/34\n",
            "313/313 [==============================] - 63s 203ms/step - loss: 0.5669 - accuracy: 0.7402 - val_loss: 0.4426 - val_accuracy: 0.8022\n",
            "Epoch 4/34\n",
            "313/313 [==============================] - 64s 206ms/step - loss: 0.4896 - accuracy: 0.7662 - val_loss: 0.3928 - val_accuracy: 0.8232\n",
            "Epoch 5/34\n",
            "313/313 [==============================] - 61s 196ms/step - loss: 0.4627 - accuracy: 0.7832 - val_loss: 0.3587 - val_accuracy: 0.8511\n",
            "Epoch 6/34\n",
            "313/313 [==============================] - 71s 228ms/step - loss: 0.4262 - accuracy: 0.7966 - val_loss: 0.3357 - val_accuracy: 0.8531\n",
            "Epoch 7/34\n",
            "313/313 [==============================] - 69s 219ms/step - loss: 0.4247 - accuracy: 0.8090 - val_loss: 0.3216 - val_accuracy: 0.8581\n",
            "Epoch 8/34\n",
            "313/313 [==============================] - 60s 193ms/step - loss: 0.3952 - accuracy: 0.8265 - val_loss: 0.3125 - val_accuracy: 0.8621\n",
            "Epoch 9/34\n",
            "313/313 [==============================] - 48s 154ms/step - loss: 0.4064 - accuracy: 0.8153 - val_loss: 0.2998 - val_accuracy: 0.8591\n",
            "Epoch 10/34\n",
            "313/313 [==============================] - 69s 221ms/step - loss: 0.3811 - accuracy: 0.8353 - val_loss: 0.2861 - val_accuracy: 0.8681\n",
            "Epoch 11/34\n",
            "313/313 [==============================] - 65s 208ms/step - loss: 0.3763 - accuracy: 0.8377 - val_loss: 0.2773 - val_accuracy: 0.8731\n",
            "Epoch 12/34\n",
            "313/313 [==============================] - 68s 219ms/step - loss: 0.3611 - accuracy: 0.8443 - val_loss: 0.2597 - val_accuracy: 0.8941\n",
            "Epoch 13/34\n",
            "313/313 [==============================] - 69s 221ms/step - loss: 0.3471 - accuracy: 0.8455 - val_loss: 0.2491 - val_accuracy: 0.8991\n",
            "Epoch 14/34\n",
            "313/313 [==============================] - 71s 226ms/step - loss: 0.3467 - accuracy: 0.8505 - val_loss: 0.2409 - val_accuracy: 0.9031\n",
            "Epoch 15/34\n",
            "313/313 [==============================] - 48s 154ms/step - loss: 0.3287 - accuracy: 0.8591 - val_loss: 0.2479 - val_accuracy: 0.8971\n",
            "Epoch 16/34\n",
            "313/313 [==============================] - 67s 213ms/step - loss: 0.3152 - accuracy: 0.8659 - val_loss: 0.2281 - val_accuracy: 0.9101\n",
            "Epoch 17/34\n",
            "313/313 [==============================] - 62s 199ms/step - loss: 0.3139 - accuracy: 0.8671 - val_loss: 0.2165 - val_accuracy: 0.9201\n",
            "Epoch 18/34\n",
            "313/313 [==============================] - 46s 147ms/step - loss: 0.3027 - accuracy: 0.8749 - val_loss: 0.2204 - val_accuracy: 0.9171\n",
            "Epoch 19/34\n",
            "313/313 [==============================] - 48s 154ms/step - loss: 0.2913 - accuracy: 0.8799 - val_loss: 0.1997 - val_accuracy: 0.9171\n",
            "Epoch 20/34\n",
            "313/313 [==============================] - 47s 151ms/step - loss: 0.2979 - accuracy: 0.8735 - val_loss: 0.2152 - val_accuracy: 0.9171\n",
            "Epoch 21/34\n",
            "313/313 [==============================] - 62s 197ms/step - loss: 0.2931 - accuracy: 0.8751 - val_loss: 0.1965 - val_accuracy: 0.9261\n",
            "Epoch 22/34\n",
            "313/313 [==============================] - 48s 152ms/step - loss: 0.2691 - accuracy: 0.8883 - val_loss: 0.1869 - val_accuracy: 0.9201\n",
            "Epoch 23/34\n",
            "313/313 [==============================] - 67s 213ms/step - loss: 0.2685 - accuracy: 0.8915 - val_loss: 0.1819 - val_accuracy: 0.9321\n",
            "Epoch 24/34\n",
            "313/313 [==============================] - 47s 151ms/step - loss: 0.2736 - accuracy: 0.8861 - val_loss: 0.1825 - val_accuracy: 0.9271\n",
            "Epoch 25/34\n",
            "313/313 [==============================] - 59s 190ms/step - loss: 0.2623 - accuracy: 0.8881 - val_loss: 0.1757 - val_accuracy: 0.9381\n",
            "Epoch 26/34\n",
            "313/313 [==============================] - 46s 148ms/step - loss: 0.2419 - accuracy: 0.8989 - val_loss: 0.1778 - val_accuracy: 0.9291\n",
            "Epoch 27/34\n",
            "313/313 [==============================] - 48s 152ms/step - loss: 0.2424 - accuracy: 0.8983 - val_loss: 0.1629 - val_accuracy: 0.9381\n",
            "Epoch 28/34\n",
            "313/313 [==============================] - 47s 150ms/step - loss: 0.2291 - accuracy: 0.9059 - val_loss: 0.1624 - val_accuracy: 0.9331\n",
            "Epoch 29/34\n",
            "313/313 [==============================] - 48s 154ms/step - loss: 0.2355 - accuracy: 0.9039 - val_loss: 0.1614 - val_accuracy: 0.9341\n",
            "Epoch 30/34\n",
            "313/313 [==============================] - 57s 181ms/step - loss: 0.2340 - accuracy: 0.9035 - val_loss: 0.1532 - val_accuracy: 0.9471\n",
            "Epoch 31/34\n",
            "313/313 [==============================] - 59s 189ms/step - loss: 0.2182 - accuracy: 0.9119 - val_loss: 0.1445 - val_accuracy: 0.9491\n",
            "Epoch 32/34\n",
            "313/313 [==============================] - 49s 155ms/step - loss: 0.2234 - accuracy: 0.9097 - val_loss: 0.1511 - val_accuracy: 0.9351\n",
            "Epoch 33/34\n",
            "313/313 [==============================] - 64s 204ms/step - loss: 0.2264 - accuracy: 0.9107 - val_loss: 0.1331 - val_accuracy: 0.9500\n",
            "Epoch 34/34\n",
            "313/313 [==============================] - 62s 199ms/step - loss: 0.2187 - accuracy: 0.9133 - val_loss: 0.1300 - val_accuracy: 0.9600\n"
          ]
        }
      ],
      "source": [
        "batch_size=16\n",
        "epochs=34#100\n",
        "history = model.fit(\n",
        "    x=images,\n",
        "    y=labels,\n",
        "    epochs=epochs,\n",
        "    batch_size=batch_size,\n",
        "    validation_data=(X_val, y_val),\n",
        "    class_weight=class_weights_dict,\n",
        "    callbacks=[early_stopping, model_checkpoint],\n",
        "    verbose=1\n",
        ")"
      ]
    },
    {
      "cell_type": "code",
      "execution_count": null,
      "metadata": {
        "colab": {
          "base_uri": "https://localhost:8080/"
        },
        "id": "IxAcTiDPpE0N",
        "outputId": "0f8ada12-926f-4d5b-dab5-b70ca33382da"
      },
      "outputs": [
        {
          "output_type": "stream",
          "name": "stdout",
          "text": [
            "32/32 [==============================] - 2s 71ms/step - loss: 0.1300 - accuracy: 0.9600\n",
            "Test loss: 0.12996630370616913\n",
            "Test accuracy: 0.9600399732589722\n"
          ]
        }
      ],
      "source": [
        "# Evaluate the model on the test set\n",
        "#model.load_weights(\"best_model.h5\")\n",
        "test_loss, test_accuracy = model.evaluate(X_val, y_val, verbose=1)\n",
        "\n",
        "print(\"Test loss:\", test_loss)\n",
        "print(\"Test accuracy:\", test_accuracy)"
      ]
    },
    {
      "cell_type": "code",
      "execution_count": null,
      "metadata": {
        "id": "nPHU6ljLsenc"
      },
      "outputs": [],
      "source": [
        "model.save('saved_model_LASTLASTLAST')"
      ]
    }
  ],
  "metadata": {
    "accelerator": "GPU",
    "colab": {
      "gpuType": "T4",
      "provenance": []
    },
    "kernelspec": {
      "display_name": "Python 3 (ipykernel)",
      "language": "python",
      "name": "python3"
    },
    "language_info": {
      "codemirror_mode": {
        "name": "ipython",
        "version": 3
      },
      "file_extension": ".py",
      "mimetype": "text/x-python",
      "name": "python",
      "nbconvert_exporter": "python",
      "pygments_lexer": "ipython3",
      "version": "3.10.13"
    }
  },
  "nbformat": 4,
  "nbformat_minor": 0
}